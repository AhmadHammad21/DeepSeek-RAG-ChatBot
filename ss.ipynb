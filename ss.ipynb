{
 "cells": [
  {
   "cell_type": "code",
   "execution_count": 1,
   "metadata": {},
   "outputs": [
    {
     "data": {
      "text/plain": [
       "True"
      ]
     },
     "execution_count": 1,
     "metadata": {},
     "output_type": "execute_result"
    }
   ],
   "source": [
    "from src.loaders.pdf_loader import PDFLoader\n",
    "from src.processors.text_processor import TextProcessor\n",
    "from src.embeddings.vector_store import VectorStore\n",
    "from src.retrieval.rag_pipeline import RAGPipeline\n",
    "from src.utils.exceptions import PDFLoadError, QueryError\n",
    "from src.utils.logger import get_logger\n",
    "from config.settings import (\n",
    "    PDF_DIRECTORY, EMBEDDING_MODEL_NAME, LLM_MODEL_NAME, VECTOR_STORE_PATH,\n",
    "    CHUNK_SIZE, CHUNK_OVERLAP\n",
    ")\n",
    "\n",
    "from dotenv import load_dotenv\n",
    "load_dotenv()"
   ]
  },
  {
   "cell_type": "code",
   "execution_count": 6,
   "metadata": {},
   "outputs": [],
   "source": [
    "import re\n",
    "def remove_think_tags(text):\n",
    "    \"\"\"Removes text between <think>...</think> tags, including the tags themselves.\"\"\"\n",
    "    cleaned_text = re.sub(r\"<think>.*?</think>\", \"\", text, flags=re.DOTALL)\n",
    "    cleaned_text = cleaned_text.lstrip(\"\\n\")  # Remove leading newlines\n",
    "    return cleaned_text\n",
    "\n",
    "# Example usage\n",
    "input_text = \"\"\"<think> Okay, I need to figure out how to help the user using DesaIsiv's platform for insurance quotes. They provided a lot of information about the company and their features. Let me break this down step by step.\n",
    "First, looking at the context, the user is asking if DesaIsiv offers quote comparison or request new quote features. The system message mentions that the platform provides these options because it's tailored for insurance processes like claims management and quotation.\n",
    "\n",
    "In the feature usage section, there are mentions of Claims Experience and Quotation Comparison as key features. So yes, they do offer those.\n",
    "\n",
    "Looking at the required files, I see Claims Experience is needed for historical data analysis, which supports quote comparison. The user might also need an Active List to generate accurate quotations, so that's another point to mention.\n",
    "\n",
    "The contact information is provided in case the user has more questions after using these features.\n",
    "\n",
    "So putting it all together, the response should confirm they have these features, explain how each works (like using historical claims for pricing), and list the necessary files. </think>\n",
    "\n",
    "Yes, DesaIsiv's platform offers both quote comparison and request new quote features. Here's a detailed breakdown:\n",
    "\n",
    "Quote Comparison:\"\"\"\n",
    "output_text = remove_think_tags(input_text)\n"
   ]
  },
  {
   "cell_type": "code",
   "execution_count": 8,
   "metadata": {},
   "outputs": [
    {
     "data": {
      "text/plain": [
       "\"Yes, DesaIsiv's platform offers both quote comparison and request new quote features. Here's a detailed breakdown:\\n\\nQuote Comparison:\""
      ]
     },
     "execution_count": 8,
     "metadata": {},
     "output_type": "execute_result"
    }
   ],
   "source": [
    "output_text"
   ]
  },
  {
   "cell_type": "code",
   "execution_count": 3,
   "metadata": {},
   "outputs": [
    {
     "name": "stderr",
     "output_type": "stream",
     "text": [
      "2025-03-11 21:45:28 - INFO - Loading PDFs...\n",
      "2025-03-11 21:45:28 - INFO - Splitting text into chunks...\n",
      "2025-03-11 21:45:28 - INFO - Storing embeddings...\n",
      "/home/ahmadhammad/chatbot/DeepSeek-RAG-ChatBot/venv/lib/python3.12/site-packages/tqdm/auto.py:21: TqdmWarning: IProgress not found. Please update jupyter and ipywidgets. See https://ipywidgets.readthedocs.io/en/stable/user_install.html\n",
      "  from .autonotebook import tqdm as notebook_tqdm\n",
      "2025-03-11 21:45:35 - INFO - Loading vector store...\n",
      "2025-03-11 21:45:36 - INFO - Pipeline is Ready!\n",
      "2025-03-11 21:45:36 - INFO - Processing query: What is the main topic of the PDFs?\n",
      "2025-03-11 21:45:44 - INFO - Response <think>\n",
      "Okay, I need to figure out the main topic of the provided PDF content. Let me read through it carefully.\n",
      "\n",
      "First, the context starts by mentioning that Desaisiv, an insurance company in Saudi Arabia, developed a platform to help insurers revise offers, negotiate terms, and finalize agreements with clients. It also talks about streamlining the quotation process and provider comparison. \n",
      "\n",
      "The required files section lists Claims Experience, Active List, Raw Data (optional), and Providers List, explaining their use.\n",
      "\n",
      "The support contact details are given at the end.\n",
      "\n",
      "Looking further down, the company's description confirms it's a Saudi Arabian tech company specializing in health insurance management, offering a platform to help with reinsurance pricing, performance monitoring, etc.\n",
      "\n",
      "There are several questions about Desaisiv: whether it's an intermediary or a reinsurer, if it's a startup, its role in reinsurance, and specific features like Claims Experience Analytics. The answers clarify that while the platform assists both insurers and TPAs, it isn't an intermediary but rather a service provider helping them manage their reinsurance needs.\n",
      "\n",
      "The key features include Claims Experience Analytics, Quotation Comparison, and Request New Quotation, which show how Desaisiv helps companies analyze claims data for pricing, compare quotes from different reinsurers, and get tailored offers.\n",
      "\n",
      "So the main topic is about Desaisiv's insurance platform designed to assist with reinsurance processes through its various features like analytics, quotation tools, and provider comparison.\n",
      "</think>\n",
      "\n",
      "The main topic of the PDF content is **Desaisiv's insurance platform**, which provides a comprehensive suite of tools for managing health insurance processes. This includes features such as Claims Experience Analytics for historical claims analysis, Quotation Comparison to assess different insurance offers, and Provider Comparison to evaluate network options. The platform aims to streamline reinsurance pricing, performance monitoring, and overall decision-making by reducing manual effort and enhancing transparency among all parties involved.\n"
     ]
    }
   ],
   "source": [
    "logger = get_logger(__name__)\n",
    "\n",
    "if __name__ == \"__main__\":\n",
    "\n",
    "    logger.info(\"Loading PDFs...\")\n",
    "    pdf_loader = PDFLoader(PDF_DIRECTORY)\n",
    "    pdf_docs = pdf_loader.load_pdfs() \n",
    "    if not pdf_docs:\n",
    "        raise PDFLoadError(\"No PDFs found in the directory.\")\n",
    "\n",
    "    # ✅ Step 2: Process Text\n",
    "    logger.info(\"Splitting text into chunks...\")\n",
    "    text_processor = TextProcessor(CHUNK_SIZE, CHUNK_OVERLAP)\n",
    "    documents = text_processor.split_documents(pdf_docs) \n",
    "\n",
    "    logger.info(\"Storing embeddings...\")\n",
    "    vector_store = VectorStore(EMBEDDING_MODEL_NAME)\n",
    "    vector_store.build_vector_store(documents)\n",
    "    vector_store.save_vector_store(VECTOR_STORE_PATH)\n",
    "    \n",
    "    logger.info(\"Loading vector store...\")\n",
    "    vector_store.load_vector_store(VECTOR_STORE_PATH) \n",
    "    rag = RAGPipeline(vector_store, model_name=LLM_MODEL_NAME)\n",
    "\n",
    "    logger.info(\"Pipeline is Ready!\")\n",
    "    \n",
    "    query = \"What is the main topic of the PDFs?\"\n",
    "    logger.info(f\"Processing query: {query}\")\n",
    "\n",
    "    response = rag.retrieve_and_generate(query)\n",
    "\n",
    "    logger.info(f\"Response {response}\")"
   ]
  },
  {
   "cell_type": "code",
   "execution_count": 27,
   "metadata": {},
   "outputs": [
    {
     "data": {
      "text/plain": [
       "2"
      ]
     },
     "execution_count": 27,
     "metadata": {},
     "output_type": "execute_result"
    }
   ],
   "source": [
    "len(embeddings)"
   ]
  },
  {
   "cell_type": "code",
   "execution_count": 26,
   "metadata": {},
   "outputs": [
    {
     "data": {
      "text/plain": [
       "(1, 384)"
      ]
     },
     "execution_count": 26,
     "metadata": {},
     "output_type": "execute_result"
    }
   ],
   "source": [
    "embeddings[0].shape"
   ]
  },
  {
   "cell_type": "code",
   "execution_count": null,
   "metadata": {},
   "outputs": [],
   "source": []
  }
 ],
 "metadata": {
  "kernelspec": {
   "display_name": "venv",
   "language": "python",
   "name": "python3"
  },
  "language_info": {
   "codemirror_mode": {
    "name": "ipython",
    "version": 3
   },
   "file_extension": ".py",
   "mimetype": "text/x-python",
   "name": "python",
   "nbconvert_exporter": "python",
   "pygments_lexer": "ipython3",
   "version": "3.12.3"
  }
 },
 "nbformat": 4,
 "nbformat_minor": 2
}
